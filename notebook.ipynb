{
 "cells": [
  {
   "cell_type": "code",
   "execution_count": null,
   "id": "dc5051b9-a475-4d80-9785-b64fb08d5b12",
   "metadata": {},
   "outputs": [],
   "source": [
    "Proyek Analisis Data: Bike Sharing Dataset\n",
    "Nama: Kirana Alyssa Putri\n",
    "Email: kiranaalyssa.putri@gmail.com\n",
    "ID Dicoding: kiranaalyssa"
   ]
  },
  {
   "cell_type": "code",
   "execution_count": null,
   "id": "bb184fc2-dc5c-4334-ad90-af6e5f3ee226",
   "metadata": {},
   "outputs": [],
   "source": [
    "Menentukan Pertanyaan Bisnis\n",
    "Pertanyaan Bisnis:\n",
    "1) Bagaimana pola tren sewa sepeda per bulan selama setahun?\n",
    "2) Bagaimana distribusi pengguna sepeda di hari libur dibandingkan dengan hari kerja?\n",
    "3) Bagaimana perbandingan jumlah pengguna Casual dan Registered di hari kerja? \n",
    "4) Musim mana yang memiliki jumlah pengguna sepeda terbanyak?\n",
    "5) Bagaimana perbedaan jumlah sewa sepeda antara pengguna Casual dan Registered berdasarkan kondisi cuaca?\n",
    "6) Seberapa besar pengaruh kecepatan angin terhadap jumlah penyewa sepeda di hari kerja?"
   ]
  },
  {
   "cell_type": "markdown",
   "id": "40cda185-4136-44da-87a0-ae90727e9968",
   "metadata": {},
   "source": [
    "Import Semua Packages/Library yang Digunakan"
   ]
  },
  {
   "cell_type": "code",
   "execution_count": 1,
   "id": "228b2f35-cd70-4fd2-a0d1-626abe673d9f",
   "metadata": {},
   "outputs": [],
   "source": [
    "import numpy as np\n",
    "import pandas as pd\n",
    "import matplotlib.pyplot as plt\n",
    "import seaborn as sns"
   ]
  },
  {
   "cell_type": "markdown",
   "id": "b34f7acc-ef8d-470b-affe-cb1ad9f1e700",
   "metadata": {},
   "source": [
    "Data Wrangling\n",
    "\n",
    "1. Gathering Data (Data Loading)"
   ]
  },
  {
   "cell_type": "code",
   "execution_count": 2,
   "id": "2e02d60e-21c3-431b-b42f-f8c506a23203",
   "metadata": {},
   "outputs": [
    {
     "data": {
      "text/html": [
       "<div>\n",
       "<style scoped>\n",
       "    .dataframe tbody tr th:only-of-type {\n",
       "        vertical-align: middle;\n",
       "    }\n",
       "\n",
       "    .dataframe tbody tr th {\n",
       "        vertical-align: top;\n",
       "    }\n",
       "\n",
       "    .dataframe thead th {\n",
       "        text-align: right;\n",
       "    }\n",
       "</style>\n",
       "<table border=\"1\" class=\"dataframe\">\n",
       "  <thead>\n",
       "    <tr style=\"text-align: right;\">\n",
       "      <th></th>\n",
       "      <th>instant</th>\n",
       "      <th>dteday</th>\n",
       "      <th>season</th>\n",
       "      <th>yr</th>\n",
       "      <th>mnth</th>\n",
       "      <th>holiday</th>\n",
       "      <th>weekday</th>\n",
       "      <th>workingday</th>\n",
       "      <th>weathersit</th>\n",
       "      <th>temp</th>\n",
       "      <th>atemp</th>\n",
       "      <th>hum</th>\n",
       "      <th>windspeed</th>\n",
       "      <th>casual</th>\n",
       "      <th>registered</th>\n",
       "      <th>cnt</th>\n",
       "    </tr>\n",
       "  </thead>\n",
       "  <tbody>\n",
       "    <tr>\n",
       "      <th>0</th>\n",
       "      <td>1</td>\n",
       "      <td>2011-01-01</td>\n",
       "      <td>1</td>\n",
       "      <td>0</td>\n",
       "      <td>1</td>\n",
       "      <td>0</td>\n",
       "      <td>6</td>\n",
       "      <td>0</td>\n",
       "      <td>2</td>\n",
       "      <td>0.344167</td>\n",
       "      <td>0.363625</td>\n",
       "      <td>0.805833</td>\n",
       "      <td>0.160446</td>\n",
       "      <td>331</td>\n",
       "      <td>654</td>\n",
       "      <td>985</td>\n",
       "    </tr>\n",
       "    <tr>\n",
       "      <th>1</th>\n",
       "      <td>2</td>\n",
       "      <td>2011-01-02</td>\n",
       "      <td>1</td>\n",
       "      <td>0</td>\n",
       "      <td>1</td>\n",
       "      <td>0</td>\n",
       "      <td>0</td>\n",
       "      <td>0</td>\n",
       "      <td>2</td>\n",
       "      <td>0.363478</td>\n",
       "      <td>0.353739</td>\n",
       "      <td>0.696087</td>\n",
       "      <td>0.248539</td>\n",
       "      <td>131</td>\n",
       "      <td>670</td>\n",
       "      <td>801</td>\n",
       "    </tr>\n",
       "    <tr>\n",
       "      <th>2</th>\n",
       "      <td>3</td>\n",
       "      <td>2011-01-03</td>\n",
       "      <td>1</td>\n",
       "      <td>0</td>\n",
       "      <td>1</td>\n",
       "      <td>0</td>\n",
       "      <td>1</td>\n",
       "      <td>1</td>\n",
       "      <td>1</td>\n",
       "      <td>0.196364</td>\n",
       "      <td>0.189405</td>\n",
       "      <td>0.437273</td>\n",
       "      <td>0.248309</td>\n",
       "      <td>120</td>\n",
       "      <td>1229</td>\n",
       "      <td>1349</td>\n",
       "    </tr>\n",
       "    <tr>\n",
       "      <th>3</th>\n",
       "      <td>4</td>\n",
       "      <td>2011-01-04</td>\n",
       "      <td>1</td>\n",
       "      <td>0</td>\n",
       "      <td>1</td>\n",
       "      <td>0</td>\n",
       "      <td>2</td>\n",
       "      <td>1</td>\n",
       "      <td>1</td>\n",
       "      <td>0.200000</td>\n",
       "      <td>0.212122</td>\n",
       "      <td>0.590435</td>\n",
       "      <td>0.160296</td>\n",
       "      <td>108</td>\n",
       "      <td>1454</td>\n",
       "      <td>1562</td>\n",
       "    </tr>\n",
       "    <tr>\n",
       "      <th>4</th>\n",
       "      <td>5</td>\n",
       "      <td>2011-01-05</td>\n",
       "      <td>1</td>\n",
       "      <td>0</td>\n",
       "      <td>1</td>\n",
       "      <td>0</td>\n",
       "      <td>3</td>\n",
       "      <td>1</td>\n",
       "      <td>1</td>\n",
       "      <td>0.226957</td>\n",
       "      <td>0.229270</td>\n",
       "      <td>0.436957</td>\n",
       "      <td>0.186900</td>\n",
       "      <td>82</td>\n",
       "      <td>1518</td>\n",
       "      <td>1600</td>\n",
       "    </tr>\n",
       "  </tbody>\n",
       "</table>\n",
       "</div>"
      ],
      "text/plain": [
       "   instant      dteday  season  yr  mnth  holiday  weekday  workingday  \\\n",
       "0        1  2011-01-01       1   0     1        0        6           0   \n",
       "1        2  2011-01-02       1   0     1        0        0           0   \n",
       "2        3  2011-01-03       1   0     1        0        1           1   \n",
       "3        4  2011-01-04       1   0     1        0        2           1   \n",
       "4        5  2011-01-05       1   0     1        0        3           1   \n",
       "\n",
       "   weathersit      temp     atemp       hum  windspeed  casual  registered  \\\n",
       "0           2  0.344167  0.363625  0.805833   0.160446     331         654   \n",
       "1           2  0.363478  0.353739  0.696087   0.248539     131         670   \n",
       "2           1  0.196364  0.189405  0.437273   0.248309     120        1229   \n",
       "3           1  0.200000  0.212122  0.590435   0.160296     108        1454   \n",
       "4           1  0.226957  0.229270  0.436957   0.186900      82        1518   \n",
       "\n",
       "    cnt  \n",
       "0   985  \n",
       "1   801  \n",
       "2  1349  \n",
       "3  1562  \n",
       "4  1600  "
      ]
     },
     "execution_count": 2,
     "metadata": {},
     "output_type": "execute_result"
    }
   ],
   "source": [
    "bike_sharing_df = pd.read_csv('day.csv')\n",
    "bike_sharing_df.head()"
   ]
  },
  {
   "cell_type": "markdown",
   "id": "3a1321a6-8307-4518-802e-07f543ee2bed",
   "metadata": {},
   "source": [
    "Data Wrangling\n",
    "\n",
    "2. Assesing Data"
   ]
  },
  {
   "cell_type": "code",
   "execution_count": 3,
   "id": "06e90934-9db2-4164-b67a-1ad6bc54c959",
   "metadata": {},
   "outputs": [
    {
     "name": "stdout",
     "output_type": "stream",
     "text": [
      "<class 'pandas.core.frame.DataFrame'>\n",
      "RangeIndex: 731 entries, 0 to 730\n",
      "Data columns (total 16 columns):\n",
      " #   Column      Non-Null Count  Dtype  \n",
      "---  ------      --------------  -----  \n",
      " 0   instant     731 non-null    int64  \n",
      " 1   dteday      731 non-null    object \n",
      " 2   season      731 non-null    int64  \n",
      " 3   yr          731 non-null    int64  \n",
      " 4   mnth        731 non-null    int64  \n",
      " 5   holiday     731 non-null    int64  \n",
      " 6   weekday     731 non-null    int64  \n",
      " 7   workingday  731 non-null    int64  \n",
      " 8   weathersit  731 non-null    int64  \n",
      " 9   temp        731 non-null    float64\n",
      " 10  atemp       731 non-null    float64\n",
      " 11  hum         731 non-null    float64\n",
      " 12  windspeed   731 non-null    float64\n",
      " 13  casual      731 non-null    int64  \n",
      " 14  registered  731 non-null    int64  \n",
      " 15  cnt         731 non-null    int64  \n",
      "dtypes: float64(4), int64(11), object(1)\n",
      "memory usage: 91.5+ KB\n"
     ]
    }
   ],
   "source": [
    "bike_sharing_df.info()"
   ]
  },
  {
   "cell_type": "code",
   "execution_count": 4,
   "id": "80fd115c-ebf4-4c8d-bc07-efb6aa19256f",
   "metadata": {},
   "outputs": [
    {
     "data": {
      "text/plain": [
       "instant       0\n",
       "dteday        0\n",
       "season        0\n",
       "yr            0\n",
       "mnth          0\n",
       "holiday       0\n",
       "weekday       0\n",
       "workingday    0\n",
       "weathersit    0\n",
       "temp          0\n",
       "atemp         0\n",
       "hum           0\n",
       "windspeed     0\n",
       "casual        0\n",
       "registered    0\n",
       "cnt           0\n",
       "dtype: int64"
      ]
     },
     "execution_count": 4,
     "metadata": {},
     "output_type": "execute_result"
    }
   ],
   "source": [
    "bike_sharing_df.isna().sum()"
   ]
  },
  {
   "cell_type": "code",
   "execution_count": 5,
   "id": "3df331a7-0648-435f-b646-157c298bab84",
   "metadata": {},
   "outputs": [
    {
     "name": "stdout",
     "output_type": "stream",
     "text": [
      "Jumlah duplikasi:  0\n"
     ]
    },
    {
     "data": {
      "text/html": [
       "<div>\n",
       "<style scoped>\n",
       "    .dataframe tbody tr th:only-of-type {\n",
       "        vertical-align: middle;\n",
       "    }\n",
       "\n",
       "    .dataframe tbody tr th {\n",
       "        vertical-align: top;\n",
       "    }\n",
       "\n",
       "    .dataframe thead th {\n",
       "        text-align: right;\n",
       "    }\n",
       "</style>\n",
       "<table border=\"1\" class=\"dataframe\">\n",
       "  <thead>\n",
       "    <tr style=\"text-align: right;\">\n",
       "      <th></th>\n",
       "      <th>instant</th>\n",
       "      <th>season</th>\n",
       "      <th>yr</th>\n",
       "      <th>mnth</th>\n",
       "      <th>holiday</th>\n",
       "      <th>weekday</th>\n",
       "      <th>workingday</th>\n",
       "      <th>weathersit</th>\n",
       "      <th>temp</th>\n",
       "      <th>atemp</th>\n",
       "      <th>hum</th>\n",
       "      <th>windspeed</th>\n",
       "      <th>casual</th>\n",
       "      <th>registered</th>\n",
       "      <th>cnt</th>\n",
       "    </tr>\n",
       "  </thead>\n",
       "  <tbody>\n",
       "    <tr>\n",
       "      <th>count</th>\n",
       "      <td>731.000000</td>\n",
       "      <td>731.000000</td>\n",
       "      <td>731.000000</td>\n",
       "      <td>731.000000</td>\n",
       "      <td>731.000000</td>\n",
       "      <td>731.000000</td>\n",
       "      <td>731.000000</td>\n",
       "      <td>731.000000</td>\n",
       "      <td>731.000000</td>\n",
       "      <td>731.000000</td>\n",
       "      <td>731.000000</td>\n",
       "      <td>731.000000</td>\n",
       "      <td>731.000000</td>\n",
       "      <td>731.000000</td>\n",
       "      <td>731.000000</td>\n",
       "    </tr>\n",
       "    <tr>\n",
       "      <th>mean</th>\n",
       "      <td>366.000000</td>\n",
       "      <td>2.496580</td>\n",
       "      <td>0.500684</td>\n",
       "      <td>6.519836</td>\n",
       "      <td>0.028728</td>\n",
       "      <td>2.997264</td>\n",
       "      <td>0.683995</td>\n",
       "      <td>1.395349</td>\n",
       "      <td>0.495385</td>\n",
       "      <td>0.474354</td>\n",
       "      <td>0.627894</td>\n",
       "      <td>0.190486</td>\n",
       "      <td>848.176471</td>\n",
       "      <td>3656.172367</td>\n",
       "      <td>4504.348837</td>\n",
       "    </tr>\n",
       "    <tr>\n",
       "      <th>std</th>\n",
       "      <td>211.165812</td>\n",
       "      <td>1.110807</td>\n",
       "      <td>0.500342</td>\n",
       "      <td>3.451913</td>\n",
       "      <td>0.167155</td>\n",
       "      <td>2.004787</td>\n",
       "      <td>0.465233</td>\n",
       "      <td>0.544894</td>\n",
       "      <td>0.183051</td>\n",
       "      <td>0.162961</td>\n",
       "      <td>0.142429</td>\n",
       "      <td>0.077498</td>\n",
       "      <td>686.622488</td>\n",
       "      <td>1560.256377</td>\n",
       "      <td>1937.211452</td>\n",
       "    </tr>\n",
       "    <tr>\n",
       "      <th>min</th>\n",
       "      <td>1.000000</td>\n",
       "      <td>1.000000</td>\n",
       "      <td>0.000000</td>\n",
       "      <td>1.000000</td>\n",
       "      <td>0.000000</td>\n",
       "      <td>0.000000</td>\n",
       "      <td>0.000000</td>\n",
       "      <td>1.000000</td>\n",
       "      <td>0.059130</td>\n",
       "      <td>0.079070</td>\n",
       "      <td>0.000000</td>\n",
       "      <td>0.022392</td>\n",
       "      <td>2.000000</td>\n",
       "      <td>20.000000</td>\n",
       "      <td>22.000000</td>\n",
       "    </tr>\n",
       "    <tr>\n",
       "      <th>25%</th>\n",
       "      <td>183.500000</td>\n",
       "      <td>2.000000</td>\n",
       "      <td>0.000000</td>\n",
       "      <td>4.000000</td>\n",
       "      <td>0.000000</td>\n",
       "      <td>1.000000</td>\n",
       "      <td>0.000000</td>\n",
       "      <td>1.000000</td>\n",
       "      <td>0.337083</td>\n",
       "      <td>0.337842</td>\n",
       "      <td>0.520000</td>\n",
       "      <td>0.134950</td>\n",
       "      <td>315.500000</td>\n",
       "      <td>2497.000000</td>\n",
       "      <td>3152.000000</td>\n",
       "    </tr>\n",
       "    <tr>\n",
       "      <th>50%</th>\n",
       "      <td>366.000000</td>\n",
       "      <td>3.000000</td>\n",
       "      <td>1.000000</td>\n",
       "      <td>7.000000</td>\n",
       "      <td>0.000000</td>\n",
       "      <td>3.000000</td>\n",
       "      <td>1.000000</td>\n",
       "      <td>1.000000</td>\n",
       "      <td>0.498333</td>\n",
       "      <td>0.486733</td>\n",
       "      <td>0.626667</td>\n",
       "      <td>0.180975</td>\n",
       "      <td>713.000000</td>\n",
       "      <td>3662.000000</td>\n",
       "      <td>4548.000000</td>\n",
       "    </tr>\n",
       "    <tr>\n",
       "      <th>75%</th>\n",
       "      <td>548.500000</td>\n",
       "      <td>3.000000</td>\n",
       "      <td>1.000000</td>\n",
       "      <td>10.000000</td>\n",
       "      <td>0.000000</td>\n",
       "      <td>5.000000</td>\n",
       "      <td>1.000000</td>\n",
       "      <td>2.000000</td>\n",
       "      <td>0.655417</td>\n",
       "      <td>0.608602</td>\n",
       "      <td>0.730209</td>\n",
       "      <td>0.233214</td>\n",
       "      <td>1096.000000</td>\n",
       "      <td>4776.500000</td>\n",
       "      <td>5956.000000</td>\n",
       "    </tr>\n",
       "    <tr>\n",
       "      <th>max</th>\n",
       "      <td>731.000000</td>\n",
       "      <td>4.000000</td>\n",
       "      <td>1.000000</td>\n",
       "      <td>12.000000</td>\n",
       "      <td>1.000000</td>\n",
       "      <td>6.000000</td>\n",
       "      <td>1.000000</td>\n",
       "      <td>3.000000</td>\n",
       "      <td>0.861667</td>\n",
       "      <td>0.840896</td>\n",
       "      <td>0.972500</td>\n",
       "      <td>0.507463</td>\n",
       "      <td>3410.000000</td>\n",
       "      <td>6946.000000</td>\n",
       "      <td>8714.000000</td>\n",
       "    </tr>\n",
       "  </tbody>\n",
       "</table>\n",
       "</div>"
      ],
      "text/plain": [
       "          instant      season          yr        mnth     holiday     weekday  \\\n",
       "count  731.000000  731.000000  731.000000  731.000000  731.000000  731.000000   \n",
       "mean   366.000000    2.496580    0.500684    6.519836    0.028728    2.997264   \n",
       "std    211.165812    1.110807    0.500342    3.451913    0.167155    2.004787   \n",
       "min      1.000000    1.000000    0.000000    1.000000    0.000000    0.000000   \n",
       "25%    183.500000    2.000000    0.000000    4.000000    0.000000    1.000000   \n",
       "50%    366.000000    3.000000    1.000000    7.000000    0.000000    3.000000   \n",
       "75%    548.500000    3.000000    1.000000   10.000000    0.000000    5.000000   \n",
       "max    731.000000    4.000000    1.000000   12.000000    1.000000    6.000000   \n",
       "\n",
       "       workingday  weathersit        temp       atemp         hum   windspeed  \\\n",
       "count  731.000000  731.000000  731.000000  731.000000  731.000000  731.000000   \n",
       "mean     0.683995    1.395349    0.495385    0.474354    0.627894    0.190486   \n",
       "std      0.465233    0.544894    0.183051    0.162961    0.142429    0.077498   \n",
       "min      0.000000    1.000000    0.059130    0.079070    0.000000    0.022392   \n",
       "25%      0.000000    1.000000    0.337083    0.337842    0.520000    0.134950   \n",
       "50%      1.000000    1.000000    0.498333    0.486733    0.626667    0.180975   \n",
       "75%      1.000000    2.000000    0.655417    0.608602    0.730209    0.233214   \n",
       "max      1.000000    3.000000    0.861667    0.840896    0.972500    0.507463   \n",
       "\n",
       "            casual   registered          cnt  \n",
       "count   731.000000   731.000000   731.000000  \n",
       "mean    848.176471  3656.172367  4504.348837  \n",
       "std     686.622488  1560.256377  1937.211452  \n",
       "min       2.000000    20.000000    22.000000  \n",
       "25%     315.500000  2497.000000  3152.000000  \n",
       "50%     713.000000  3662.000000  4548.000000  \n",
       "75%    1096.000000  4776.500000  5956.000000  \n",
       "max    3410.000000  6946.000000  8714.000000  "
      ]
     },
     "execution_count": 5,
     "metadata": {},
     "output_type": "execute_result"
    }
   ],
   "source": [
    "print(\"Jumlah duplikasi: \", bike_sharing_df.duplicated().sum())\n",
    "bike_sharing_df.describe()"
   ]
  },
  {
   "cell_type": "markdown",
   "id": "5a5932fb-1b0a-4963-ac9e-9cc471e95c2f",
   "metadata": {},
   "source": [
    "Berikut adalah hasil Assesing Data pada tabel dataset bike-sharing:\n",
    "\n",
    "Tipe data -> dteday seharusnya datetime (Jadi ubah tipe data object menjadi datetime)\n",
    "\n",
    "Missing value -> Tidak ada\n",
    "\n",
    "Duplicate data -> Tidak ada\n",
    "\n",
    "Inaccurate value -> Tidak ada "
   ]
  },
  {
   "cell_type": "markdown",
   "id": "c3f209d4-847b-4e4e-a0ef-e8169689656d",
   "metadata": {},
   "source": [
    "Data Wrangling\n",
    "\n",
    "3. Cleaning Data"
   ]
  },
  {
   "cell_type": "code",
   "execution_count": 6,
   "id": "bce3372d-c7ef-4e90-8328-b5ea7e7fedd5",
   "metadata": {},
   "outputs": [],
   "source": [
    "# Ubah tipe data 'object' pada dteday menjadi 'datetime'\n",
    "bike_sharing_df['dteday'] = pd.to_datetime(bike_sharing_df['dteday'])"
   ]
  },
  {
   "cell_type": "code",
   "execution_count": 7,
   "id": "1376ab5b-da10-44d1-b847-5f588e5f5025",
   "metadata": {},
   "outputs": [
    {
     "name": "stdout",
     "output_type": "stream",
     "text": [
      "<class 'pandas.core.frame.DataFrame'>\n",
      "RangeIndex: 731 entries, 0 to 730\n",
      "Data columns (total 16 columns):\n",
      " #   Column      Non-Null Count  Dtype         \n",
      "---  ------      --------------  -----         \n",
      " 0   instant     731 non-null    int64         \n",
      " 1   dteday      731 non-null    datetime64[ns]\n",
      " 2   season      731 non-null    int64         \n",
      " 3   yr          731 non-null    int64         \n",
      " 4   mnth        731 non-null    int64         \n",
      " 5   holiday     731 non-null    int64         \n",
      " 6   weekday     731 non-null    int64         \n",
      " 7   workingday  731 non-null    int64         \n",
      " 8   weathersit  731 non-null    int64         \n",
      " 9   temp        731 non-null    float64       \n",
      " 10  atemp       731 non-null    float64       \n",
      " 11  hum         731 non-null    float64       \n",
      " 12  windspeed   731 non-null    float64       \n",
      " 13  casual      731 non-null    int64         \n",
      " 14  registered  731 non-null    int64         \n",
      " 15  cnt         731 non-null    int64         \n",
      "dtypes: datetime64[ns](1), float64(4), int64(11)\n",
      "memory usage: 91.5 KB\n"
     ]
    }
   ],
   "source": [
    "#Cek tipe data setelah dikonversi\n",
    "bike_sharing_df.info()"
   ]
  },
  {
   "cell_type": "code",
   "execution_count": 8,
   "id": "d8e76d28-cd07-4e82-b5f5-a23afdab714d",
   "metadata": {},
   "outputs": [],
   "source": [
    "# Simpan dataset yang sudah dibersihkan sebagai file CSV\n",
    "#bike_sharing_df.to_csv('clean_df.csv', index=False)"
   ]
  },
  {
   "cell_type": "markdown",
   "id": "515aa84c-1d5a-4196-8596-95668af11dd2",
   "metadata": {},
   "source": [
    "Exploratory Data Analysis (EDA)"
   ]
  },
  {
   "cell_type": "code",
   "execution_count": 9,
   "id": "891ed73f-7c94-44b8-903d-a26398477629",
   "metadata": {},
   "outputs": [
    {
     "data": {
      "text/html": [
       "<div>\n",
       "<style scoped>\n",
       "    .dataframe tbody tr th:only-of-type {\n",
       "        vertical-align: middle;\n",
       "    }\n",
       "\n",
       "    .dataframe tbody tr th {\n",
       "        vertical-align: top;\n",
       "    }\n",
       "\n",
       "    .dataframe thead th {\n",
       "        text-align: right;\n",
       "    }\n",
       "</style>\n",
       "<table border=\"1\" class=\"dataframe\">\n",
       "  <thead>\n",
       "    <tr style=\"text-align: right;\">\n",
       "      <th></th>\n",
       "      <th>instant</th>\n",
       "      <th>dteday</th>\n",
       "      <th>season</th>\n",
       "      <th>yr</th>\n",
       "      <th>mnth</th>\n",
       "      <th>holiday</th>\n",
       "      <th>weekday</th>\n",
       "      <th>workingday</th>\n",
       "      <th>weathersit</th>\n",
       "      <th>temp</th>\n",
       "      <th>atemp</th>\n",
       "      <th>hum</th>\n",
       "      <th>windspeed</th>\n",
       "      <th>casual</th>\n",
       "      <th>registered</th>\n",
       "      <th>cnt</th>\n",
       "    </tr>\n",
       "  </thead>\n",
       "  <tbody>\n",
       "    <tr>\n",
       "      <th>count</th>\n",
       "      <td>731.000000</td>\n",
       "      <td>731</td>\n",
       "      <td>731.000000</td>\n",
       "      <td>731.000000</td>\n",
       "      <td>731.000000</td>\n",
       "      <td>731.000000</td>\n",
       "      <td>731.000000</td>\n",
       "      <td>731.000000</td>\n",
       "      <td>731.000000</td>\n",
       "      <td>731.000000</td>\n",
       "      <td>731.000000</td>\n",
       "      <td>731.000000</td>\n",
       "      <td>731.000000</td>\n",
       "      <td>731.000000</td>\n",
       "      <td>731.000000</td>\n",
       "      <td>731.000000</td>\n",
       "    </tr>\n",
       "    <tr>\n",
       "      <th>mean</th>\n",
       "      <td>366.000000</td>\n",
       "      <td>2012-01-01 00:00:00</td>\n",
       "      <td>2.496580</td>\n",
       "      <td>0.500684</td>\n",
       "      <td>6.519836</td>\n",
       "      <td>0.028728</td>\n",
       "      <td>2.997264</td>\n",
       "      <td>0.683995</td>\n",
       "      <td>1.395349</td>\n",
       "      <td>0.495385</td>\n",
       "      <td>0.474354</td>\n",
       "      <td>0.627894</td>\n",
       "      <td>0.190486</td>\n",
       "      <td>848.176471</td>\n",
       "      <td>3656.172367</td>\n",
       "      <td>4504.348837</td>\n",
       "    </tr>\n",
       "    <tr>\n",
       "      <th>min</th>\n",
       "      <td>1.000000</td>\n",
       "      <td>2011-01-01 00:00:00</td>\n",
       "      <td>1.000000</td>\n",
       "      <td>0.000000</td>\n",
       "      <td>1.000000</td>\n",
       "      <td>0.000000</td>\n",
       "      <td>0.000000</td>\n",
       "      <td>0.000000</td>\n",
       "      <td>1.000000</td>\n",
       "      <td>0.059130</td>\n",
       "      <td>0.079070</td>\n",
       "      <td>0.000000</td>\n",
       "      <td>0.022392</td>\n",
       "      <td>2.000000</td>\n",
       "      <td>20.000000</td>\n",
       "      <td>22.000000</td>\n",
       "    </tr>\n",
       "    <tr>\n",
       "      <th>25%</th>\n",
       "      <td>183.500000</td>\n",
       "      <td>2011-07-02 12:00:00</td>\n",
       "      <td>2.000000</td>\n",
       "      <td>0.000000</td>\n",
       "      <td>4.000000</td>\n",
       "      <td>0.000000</td>\n",
       "      <td>1.000000</td>\n",
       "      <td>0.000000</td>\n",
       "      <td>1.000000</td>\n",
       "      <td>0.337083</td>\n",
       "      <td>0.337842</td>\n",
       "      <td>0.520000</td>\n",
       "      <td>0.134950</td>\n",
       "      <td>315.500000</td>\n",
       "      <td>2497.000000</td>\n",
       "      <td>3152.000000</td>\n",
       "    </tr>\n",
       "    <tr>\n",
       "      <th>50%</th>\n",
       "      <td>366.000000</td>\n",
       "      <td>2012-01-01 00:00:00</td>\n",
       "      <td>3.000000</td>\n",
       "      <td>1.000000</td>\n",
       "      <td>7.000000</td>\n",
       "      <td>0.000000</td>\n",
       "      <td>3.000000</td>\n",
       "      <td>1.000000</td>\n",
       "      <td>1.000000</td>\n",
       "      <td>0.498333</td>\n",
       "      <td>0.486733</td>\n",
       "      <td>0.626667</td>\n",
       "      <td>0.180975</td>\n",
       "      <td>713.000000</td>\n",
       "      <td>3662.000000</td>\n",
       "      <td>4548.000000</td>\n",
       "    </tr>\n",
       "    <tr>\n",
       "      <th>75%</th>\n",
       "      <td>548.500000</td>\n",
       "      <td>2012-07-01 12:00:00</td>\n",
       "      <td>3.000000</td>\n",
       "      <td>1.000000</td>\n",
       "      <td>10.000000</td>\n",
       "      <td>0.000000</td>\n",
       "      <td>5.000000</td>\n",
       "      <td>1.000000</td>\n",
       "      <td>2.000000</td>\n",
       "      <td>0.655417</td>\n",
       "      <td>0.608602</td>\n",
       "      <td>0.730209</td>\n",
       "      <td>0.233214</td>\n",
       "      <td>1096.000000</td>\n",
       "      <td>4776.500000</td>\n",
       "      <td>5956.000000</td>\n",
       "    </tr>\n",
       "    <tr>\n",
       "      <th>max</th>\n",
       "      <td>731.000000</td>\n",
       "      <td>2012-12-31 00:00:00</td>\n",
       "      <td>4.000000</td>\n",
       "      <td>1.000000</td>\n",
       "      <td>12.000000</td>\n",
       "      <td>1.000000</td>\n",
       "      <td>6.000000</td>\n",
       "      <td>1.000000</td>\n",
       "      <td>3.000000</td>\n",
       "      <td>0.861667</td>\n",
       "      <td>0.840896</td>\n",
       "      <td>0.972500</td>\n",
       "      <td>0.507463</td>\n",
       "      <td>3410.000000</td>\n",
       "      <td>6946.000000</td>\n",
       "      <td>8714.000000</td>\n",
       "    </tr>\n",
       "    <tr>\n",
       "      <th>std</th>\n",
       "      <td>211.165812</td>\n",
       "      <td>NaN</td>\n",
       "      <td>1.110807</td>\n",
       "      <td>0.500342</td>\n",
       "      <td>3.451913</td>\n",
       "      <td>0.167155</td>\n",
       "      <td>2.004787</td>\n",
       "      <td>0.465233</td>\n",
       "      <td>0.544894</td>\n",
       "      <td>0.183051</td>\n",
       "      <td>0.162961</td>\n",
       "      <td>0.142429</td>\n",
       "      <td>0.077498</td>\n",
       "      <td>686.622488</td>\n",
       "      <td>1560.256377</td>\n",
       "      <td>1937.211452</td>\n",
       "    </tr>\n",
       "  </tbody>\n",
       "</table>\n",
       "</div>"
      ],
      "text/plain": [
       "          instant               dteday      season          yr        mnth  \\\n",
       "count  731.000000                  731  731.000000  731.000000  731.000000   \n",
       "mean   366.000000  2012-01-01 00:00:00    2.496580    0.500684    6.519836   \n",
       "min      1.000000  2011-01-01 00:00:00    1.000000    0.000000    1.000000   \n",
       "25%    183.500000  2011-07-02 12:00:00    2.000000    0.000000    4.000000   \n",
       "50%    366.000000  2012-01-01 00:00:00    3.000000    1.000000    7.000000   \n",
       "75%    548.500000  2012-07-01 12:00:00    3.000000    1.000000   10.000000   \n",
       "max    731.000000  2012-12-31 00:00:00    4.000000    1.000000   12.000000   \n",
       "std    211.165812                  NaN    1.110807    0.500342    3.451913   \n",
       "\n",
       "          holiday     weekday  workingday  weathersit        temp       atemp  \\\n",
       "count  731.000000  731.000000  731.000000  731.000000  731.000000  731.000000   \n",
       "mean     0.028728    2.997264    0.683995    1.395349    0.495385    0.474354   \n",
       "min      0.000000    0.000000    0.000000    1.000000    0.059130    0.079070   \n",
       "25%      0.000000    1.000000    0.000000    1.000000    0.337083    0.337842   \n",
       "50%      0.000000    3.000000    1.000000    1.000000    0.498333    0.486733   \n",
       "75%      0.000000    5.000000    1.000000    2.000000    0.655417    0.608602   \n",
       "max      1.000000    6.000000    1.000000    3.000000    0.861667    0.840896   \n",
       "std      0.167155    2.004787    0.465233    0.544894    0.183051    0.162961   \n",
       "\n",
       "              hum   windspeed       casual   registered          cnt  \n",
       "count  731.000000  731.000000   731.000000   731.000000   731.000000  \n",
       "mean     0.627894    0.190486   848.176471  3656.172367  4504.348837  \n",
       "min      0.000000    0.022392     2.000000    20.000000    22.000000  \n",
       "25%      0.520000    0.134950   315.500000  2497.000000  3152.000000  \n",
       "50%      0.626667    0.180975   713.000000  3662.000000  4548.000000  \n",
       "75%      0.730209    0.233214  1096.000000  4776.500000  5956.000000  \n",
       "max      0.972500    0.507463  3410.000000  6946.000000  8714.000000  \n",
       "std      0.142429    0.077498   686.622488  1560.256377  1937.211452  "
      ]
     },
     "execution_count": 9,
     "metadata": {},
     "output_type": "execute_result"
    }
   ],
   "source": [
    "bike_sharing_df.describe(include=\"all\")"
   ]
  },
  {
   "cell_type": "markdown",
   "id": "a0ea0a30-ce9c-484c-9ab2-ffeeac12f367",
   "metadata": {},
   "source": [
    "Insight yang didapatkan secara umum:\n",
    "\n",
    "1) Rata-rata Penyewa Kasual (casual) dan Terdaftar (registered):\n",
    "   Rata-rata Pengguna Kasual: 848.18\n",
    "   Rata-rata Pengguna Terdaftar: 3656.17\n",
    "   Kesimpulan: Terlihat bahwa rata-rata pengguna terdaftar jauh lebih tinggi dibandingkan dengan pengguna kasual. Ini menunjukkan bahwa program berbagi\n",
    "   sepeda mungkin lebih diminati oleh pengguna yang terdaftar, yang dapat dioptimalkan dengan promosi atau diskon untuk pengguna kasual.\n",
    "\n",
    "2) Rata-rata Total Sewa Sepeda (cnt):\n",
    "   Rata-rata: 4504.35\n",
    "   Kesimpulan: Secara keseluruhan, ada sekitar 4504 penyewaan sepeda per hari. Ini menunjukkan bahwa sistem berbagi sepeda cukup aktif dan populer."
   ]
  },
  {
   "cell_type": "code",
   "execution_count": 10,
   "id": "455fe16e-6044-4e0f-b664-10c043406574",
   "metadata": {},
   "outputs": [
    {
     "name": "stdout",
     "output_type": "stream",
     "text": [
      "Jumlah keseluruhan pengguna bike-sharing: 3292679\n"
     ]
    }
   ],
   "source": [
    "# 1. Jumlah keseluruhan pengguna bike-sharing\n",
    "total_users = bike_sharing_df['casual'].sum() + bike_sharing_df['registered'].sum()\n",
    "print(f\"Jumlah keseluruhan pengguna bike-sharing: {total_users}\")"
   ]
  },
  {
   "cell_type": "code",
   "execution_count": 11,
   "id": "b3c70efc-ec3b-4644-a952-614d8ec4c7a7",
   "metadata": {},
   "outputs": [
    {
     "name": "stdout",
     "output_type": "stream",
     "text": [
      "Jumlah total pengguna casual: 620017\n",
      "Jumlah total pengguna registered: 2672662\n"
     ]
    }
   ],
   "source": [
    "total_casual = bike_sharing_df['casual'].sum()\n",
    "total_registered = bike_sharing_df['registered'].sum()\n",
    "\n",
    "print(f\"Jumlah total pengguna casual: {total_casual}\")\n",
    "print(f\"Jumlah total pengguna registered: {total_registered}\")"
   ]
  },
  {
   "cell_type": "code",
   "execution_count": 12,
   "id": "98c6ae56-5f3e-40a8-95b3-de6865f3b1fb",
   "metadata": {},
   "outputs": [
    {
     "name": "stdout",
     "output_type": "stream",
     "text": [
      "Total sepeda yang disewa per tahun:\n"
     ]
    },
    {
     "data": {
      "text/html": [
       "<div>\n",
       "<style scoped>\n",
       "    .dataframe tbody tr th:only-of-type {\n",
       "        vertical-align: middle;\n",
       "    }\n",
       "\n",
       "    .dataframe tbody tr th {\n",
       "        vertical-align: top;\n",
       "    }\n",
       "\n",
       "    .dataframe thead th {\n",
       "        text-align: right;\n",
       "    }\n",
       "</style>\n",
       "<table border=\"1\" class=\"dataframe\">\n",
       "  <thead>\n",
       "    <tr style=\"text-align: right;\">\n",
       "      <th></th>\n",
       "      <th>Tahun</th>\n",
       "      <th>Total Sewa</th>\n",
       "    </tr>\n",
       "  </thead>\n",
       "  <tbody>\n",
       "    <tr>\n",
       "      <th>0</th>\n",
       "      <td>2011</td>\n",
       "      <td>1243103</td>\n",
       "    </tr>\n",
       "    <tr>\n",
       "      <th>1</th>\n",
       "      <td>2012</td>\n",
       "      <td>2049576</td>\n",
       "    </tr>\n",
       "  </tbody>\n",
       "</table>\n",
       "</div>"
      ],
      "text/plain": [
       "   Tahun  Total Sewa\n",
       "0   2011     1243103\n",
       "1   2012     2049576"
      ]
     },
     "execution_count": 12,
     "metadata": {},
     "output_type": "execute_result"
    }
   ],
   "source": [
    "#2. Total sepeda yang disewa per tahun\n",
    "total_rentals_per_year = bike_sharing_df.groupby(bike_sharing_df['yr'].map({0: 2011, 1: 2012}))['cnt'].sum().reset_index()\n",
    "total_rentals_per_year.columns = ['Tahun', 'Total Sewa']\n",
    "print(\"Total sepeda yang disewa per tahun:\")\n",
    "total_rentals_per_year"
   ]
  },
  {
   "cell_type": "code",
   "execution_count": 13,
   "id": "911d69f2-3fcd-451c-bb6e-6843b283eef0",
   "metadata": {},
   "outputs": [
    {
     "name": "stdout",
     "output_type": "stream",
     "text": [
      "Jumlah penyewa sepeda dalam sehari:\n"
     ]
    },
    {
     "data": {
      "text/html": [
       "<div>\n",
       "<style scoped>\n",
       "    .dataframe tbody tr th:only-of-type {\n",
       "        vertical-align: middle;\n",
       "    }\n",
       "\n",
       "    .dataframe tbody tr th {\n",
       "        vertical-align: top;\n",
       "    }\n",
       "\n",
       "    .dataframe thead th {\n",
       "        text-align: right;\n",
       "    }\n",
       "</style>\n",
       "<table border=\"1\" class=\"dataframe\">\n",
       "  <thead>\n",
       "    <tr style=\"text-align: right;\">\n",
       "      <th></th>\n",
       "      <th>Tanggal</th>\n",
       "      <th>Jumlah Penyewa</th>\n",
       "    </tr>\n",
       "  </thead>\n",
       "  <tbody>\n",
       "    <tr>\n",
       "      <th>0</th>\n",
       "      <td>2011-01-01</td>\n",
       "      <td>985</td>\n",
       "    </tr>\n",
       "    <tr>\n",
       "      <th>1</th>\n",
       "      <td>2011-01-02</td>\n",
       "      <td>801</td>\n",
       "    </tr>\n",
       "    <tr>\n",
       "      <th>2</th>\n",
       "      <td>2011-01-03</td>\n",
       "      <td>1349</td>\n",
       "    </tr>\n",
       "    <tr>\n",
       "      <th>3</th>\n",
       "      <td>2011-01-04</td>\n",
       "      <td>1562</td>\n",
       "    </tr>\n",
       "    <tr>\n",
       "      <th>4</th>\n",
       "      <td>2011-01-05</td>\n",
       "      <td>1600</td>\n",
       "    </tr>\n",
       "    <tr>\n",
       "      <th>...</th>\n",
       "      <td>...</td>\n",
       "      <td>...</td>\n",
       "    </tr>\n",
       "    <tr>\n",
       "      <th>726</th>\n",
       "      <td>2012-12-27</td>\n",
       "      <td>2114</td>\n",
       "    </tr>\n",
       "    <tr>\n",
       "      <th>727</th>\n",
       "      <td>2012-12-28</td>\n",
       "      <td>3095</td>\n",
       "    </tr>\n",
       "    <tr>\n",
       "      <th>728</th>\n",
       "      <td>2012-12-29</td>\n",
       "      <td>1341</td>\n",
       "    </tr>\n",
       "    <tr>\n",
       "      <th>729</th>\n",
       "      <td>2012-12-30</td>\n",
       "      <td>1796</td>\n",
       "    </tr>\n",
       "    <tr>\n",
       "      <th>730</th>\n",
       "      <td>2012-12-31</td>\n",
       "      <td>2729</td>\n",
       "    </tr>\n",
       "  </tbody>\n",
       "</table>\n",
       "<p>731 rows × 2 columns</p>\n",
       "</div>"
      ],
      "text/plain": [
       "       Tanggal  Jumlah Penyewa\n",
       "0   2011-01-01             985\n",
       "1   2011-01-02             801\n",
       "2   2011-01-03            1349\n",
       "3   2011-01-04            1562\n",
       "4   2011-01-05            1600\n",
       "..         ...             ...\n",
       "726 2012-12-27            2114\n",
       "727 2012-12-28            3095\n",
       "728 2012-12-29            1341\n",
       "729 2012-12-30            1796\n",
       "730 2012-12-31            2729\n",
       "\n",
       "[731 rows x 2 columns]"
      ]
     },
     "execution_count": 13,
     "metadata": {},
     "output_type": "execute_result"
    }
   ],
   "source": [
    "# 3. Jumlah penyewa sepeda dalam sehari\n",
    "daily_rentals = bike_sharing_df.groupby('dteday')['cnt'].sum().reset_index()\n",
    "daily_rentals.columns = ['Tanggal', 'Jumlah Penyewa']\n",
    "print(\"Jumlah penyewa sepeda dalam sehari:\")\n",
    "(daily_rentals)"
   ]
  },
  {
   "cell_type": "code",
   "execution_count": 14,
   "id": "0817f913-f6e9-48fc-86cb-4dd41913ee35",
   "metadata": {},
   "outputs": [
    {
     "name": "stdout",
     "output_type": "stream",
     "text": [
      "Musim dengan jumlah penyewa sepeda terbanyak:\n"
     ]
    },
    {
     "data": {
      "text/html": [
       "<div>\n",
       "<style scoped>\n",
       "    .dataframe tbody tr th:only-of-type {\n",
       "        vertical-align: middle;\n",
       "    }\n",
       "\n",
       "    .dataframe tbody tr th {\n",
       "        vertical-align: top;\n",
       "    }\n",
       "\n",
       "    .dataframe thead th {\n",
       "        text-align: right;\n",
       "    }\n",
       "</style>\n",
       "<table border=\"1\" class=\"dataframe\">\n",
       "  <thead>\n",
       "    <tr style=\"text-align: right;\">\n",
       "      <th></th>\n",
       "      <th>Musim</th>\n",
       "      <th>Total Sewa</th>\n",
       "    </tr>\n",
       "  </thead>\n",
       "  <tbody>\n",
       "    <tr>\n",
       "      <th>0</th>\n",
       "      <td>1</td>\n",
       "      <td>471348</td>\n",
       "    </tr>\n",
       "    <tr>\n",
       "      <th>1</th>\n",
       "      <td>2</td>\n",
       "      <td>918589</td>\n",
       "    </tr>\n",
       "    <tr>\n",
       "      <th>2</th>\n",
       "      <td>3</td>\n",
       "      <td>1061129</td>\n",
       "    </tr>\n",
       "    <tr>\n",
       "      <th>3</th>\n",
       "      <td>4</td>\n",
       "      <td>841613</td>\n",
       "    </tr>\n",
       "  </tbody>\n",
       "</table>\n",
       "</div>"
      ],
      "text/plain": [
       "   Musim  Total Sewa\n",
       "0      1      471348\n",
       "1      2      918589\n",
       "2      3     1061129\n",
       "3      4      841613"
      ]
     },
     "execution_count": 14,
     "metadata": {},
     "output_type": "execute_result"
    }
   ],
   "source": [
    "# 4. Musim dengan penyewa sepeda terbanyak\n",
    "seasonal_rentals = bike_sharing_df.groupby('season')['cnt'].sum().reset_index()\n",
    "seasonal_rentals.columns = ['Musim', 'Total Sewa']\n",
    "print(\"Musim dengan jumlah penyewa sepeda terbanyak:\")\n",
    "(seasonal_rentals)"
   ]
  },
  {
   "cell_type": "code",
   "execution_count": 15,
   "id": "e90363df-1a4e-4047-ad90-63e609d21edd",
   "metadata": {},
   "outputs": [
    {
     "name": "stdout",
     "output_type": "stream",
     "text": [
      "Perbandingan pengguna sewa sepeda pada hari kerja:\n",
      "   Hari Kerja (0: Tidak, 1: Ya)  Total Sewa\n",
      "0                             0     1000269\n",
      "1                             1     2292410\n",
      "\n",
      "Perbandingan pengguna sewa sepeda pada hari libur:\n",
      "   Hari Libur (0: Tidak, 1: Ya)  Total Sewa\n",
      "0                             0     3214244\n",
      "1                             1       78435\n"
     ]
    }
   ],
   "source": [
    "# 5. Perbandingan pengguna sewa sepeda pada hari kerja dan hari libur\n",
    "\n",
    "# Menghitung total penyewa sepeda pada hari kerja\n",
    "workingday_rentals = bike_sharing_df.groupby(bike_sharing_df['workingday'])['cnt'].sum().reset_index()\n",
    "workingday_rentals.columns = ['Hari Kerja (0: Tidak, 1: Ya)', 'Total Sewa']\n",
    "\n",
    "# Menghitung total penyewa sepeda pada hari libur (holiday = 1)\n",
    "holiday_rentals = bike_sharing_df.groupby(bike_sharing_df['holiday'])['cnt'].sum().reset_index()\n",
    "holiday_rentals.columns = ['Hari Libur (0: Tidak, 1: Ya)', 'Total Sewa']\n",
    "\n",
    "# Menampilkan hasil\n",
    "print(\"Perbandingan pengguna sewa sepeda pada hari kerja:\")\n",
    "print(workingday_rentals)\n",
    "print(\"\\nPerbandingan pengguna sewa sepeda pada hari libur:\")\n",
    "print(holiday_rentals)\n"
   ]
  },
  {
   "cell_type": "code",
   "execution_count": 16,
   "id": "3d2302bc-90ee-4514-9d77-11d394d9238b",
   "metadata": {},
   "outputs": [
    {
     "name": "stdout",
     "output_type": "stream",
     "text": [
      "Pengguna sepeda berdasarkan kondisi cuaca:\n",
      "   Kondisi Cuaca  Total Sewa\n",
      "0              1     2257952\n",
      "1              2      996858\n",
      "2              3       37869\n"
     ]
    }
   ],
   "source": [
    "# 6. Pengguna sewa sepeda berdasarkan kondisi cuaca\n",
    "# Mengelompokkan data berdasarkan kondisi cuaca dan menghitung total penyewa sepeda\n",
    "weather_rentals = bike_sharing_df.groupby('weathersit')['cnt'].agg('sum').reset_index()\n",
    "weather_rentals.columns = ['Kondisi Cuaca', 'Total Sewa']\n",
    "\n",
    "# Menampilkan hasil\n",
    "print(\"Pengguna sepeda berdasarkan kondisi cuaca:\")\n",
    "print(weather_rentals)\n"
   ]
  },
  {
   "cell_type": "code",
   "execution_count": 17,
   "id": "a0da24b6-cce6-40dd-ad8e-db19b64628b5",
   "metadata": {},
   "outputs": [
    {
     "name": "stdout",
     "output_type": "stream",
     "text": [
      "Jumlah data dengan kondisi cuaca 4: 0\n",
      "Empty DataFrame\n",
      "Columns: [instant, dteday, season, yr, mnth, holiday, weekday, workingday, weathersit, temp, atemp, hum, windspeed, casual, registered, cnt]\n",
      "Index: []\n"
     ]
    }
   ],
   "source": [
    "# Cek apakah ada data dengan kondisi cuaca 4\n",
    "cuaca_4 = bike_sharing_df[bike_sharing_df['weathersit'] == 4]\n",
    "\n",
    "# Menampilkan data yang memiliki kondisi cuaca 4\n",
    "print(f\"Jumlah data dengan kondisi cuaca 4: {len(cuaca_4)}\")\n",
    "print(cuaca_4)\n"
   ]
  },
  {
   "cell_type": "code",
   "execution_count": 18,
   "id": "40bb10f0-a4cf-4ca4-8478-161b0f08bec7",
   "metadata": {},
   "outputs": [
    {
     "name": "stdout",
     "output_type": "stream",
     "text": [
      "Pada hari kerja, jumlah total pengguna casual dan registered:\n",
      "Jumlah Casual: 303285\n",
      "Jumlah Registered: 1989125\n"
     ]
    }
   ],
   "source": [
    "# 7. Penyewa sepeda  casual dan registered pada hari kerja\n",
    "# Filter data untuk hari kerja (workingday == 1)\n",
    "workingday_rentals = bike_sharing_df[bike_sharing_df['workingday'] == 1]\n",
    "\n",
    "# Menghitung total jumlah penyewa casual dan registered pada hari kerja\n",
    "total_casual_workingday = workingday_rentals['casual'].sum()\n",
    "total_registered_workingday = workingday_rentals['registered'].sum()\n",
    "\n",
    "# Menampilkan hasil\n",
    "print(\"Pada hari kerja, jumlah total pengguna casual dan registered:\")\n",
    "print(f\"Jumlah Casual: {total_casual_workingday}\")\n",
    "print(f\"Jumlah Registered: {total_registered_workingday}\")"
   ]
  },
  {
   "cell_type": "code",
   "execution_count": 19,
   "id": "b2d95611-2c30-4ca7-8709-f1233c72701a",
   "metadata": {},
   "outputs": [
    {
     "name": "stdout",
     "output_type": "stream",
     "text": [
      "Perkembangan penyewa sepeda  casual dan registered dari Januari hingga Mei tahun 2011:\n",
      "      casual  registered\n",
      "mnth                    \n",
      "1       3073       35116\n",
      "2       6242       41973\n",
      "3      12826       51219\n",
      "4      22346       72524\n",
      "5      31050      104771\n",
      "\n",
      "Perkembangan penyewa sepeda  casual dan registered dari Januari hingga Mei tahun 2012:\n",
      "      casual  registered\n",
      "mnth                    \n",
      "1       8969       87775\n",
      "2       8721       94416\n",
      "3      31618      133257\n",
      "4      38456      135768\n",
      "5      44235      151630\n"
     ]
    }
   ],
   "source": [
    "# 8. Perkembangan penyewa sepeda casual dan registered per tahun berdasarkan bulan dan tipe pengguna\n",
    "# Filter data untuk bulan Januari hingga Mei pada tahun 2011\n",
    "rentals_2011 = bike_sharing_df[(bike_sharing_df['yr'] == 0) & (bike_sharing_df['mnth'] >= 1) & (bike_sharing_df['mnth'] <= 5)]\n",
    "rentals_by_month_2011 = rentals_2011.groupby('mnth')[['casual', 'registered']].sum()\n",
    "\n",
    "# Filter data untuk bulan Januari hingga Mei pada tahun 2012\n",
    "rentals_2012 = bike_sharing_df[(bike_sharing_df['yr'] == 1) & (bike_sharing_df['mnth'] >= 1) & (bike_sharing_df['mnth'] <= 5)]\n",
    "rentals_by_month_2012 = rentals_2012.groupby('mnth')[['casual', 'registered']].sum()\n",
    "\n",
    "# Menampilkan hasil\n",
    "print(\"Perkembangan penyewa sepeda  casual dan registered dari Januari hingga Mei tahun 2011:\")\n",
    "print(rentals_by_month_2011)\n",
    "\n",
    "print(\"\\nPerkembangan penyewa sepeda  casual dan registered dari Januari hingga Mei tahun 2012:\")\n",
    "print(rentals_by_month_2012)"
   ]
  },
  {
   "cell_type": "markdown",
   "id": "64d687a2-7d70-4065-a84e-229fdfad562d",
   "metadata": {},
   "source": [
    "Berdasarkan hasil Exploratory Data Analysis (EDA) dari data bike-sharing, berikut adalah beberapa insight berharga:\n",
    "\n",
    "1. Peningkatan Pengguna: Jumlah total penyewa sepeda meningkat dari 1,24 juta di tahun 2011 menjadi 2,05 juta di tahun 2012, menunjukkan pertumbuhan yang signifikan.\n",
    "\n",
    "2. Dominasi Pengguna Registered: Pengguna registered mendominasi sistem bike-sharing, dengan 2,67 juta penyewaan dibandingkan 620 ribu dari pengguna casual. ni berdampak positif karena menunjukkan banyak pengguna yang mendaftar dan memanfaatkan kelebihan yang ditawarkan oleh sistem bike-sharing, seperti kemudahan akses, tarif yang lebih terjangkau, atau fitur tambahan lainnya. \n",
    "\n",
    "3. Musim Puncak Penyewaan: Musim gugur mencatat jumlah penyewaan tertinggi (1,06 juta), diikuti oleh musim panas (918 ribu).\n",
    "\n",
    "4. Hari Kerja vs Hari Libur: Sebagian besar penyewaan terjadi pada hari kerja (2,29 juta), dibandingkan dengan 1 juta pada hari libur.\n",
    "\n",
    "5. Cuaca: Kondisi cuaca cerah (kategori 1) menghasilkan jumlah penyewaan tertinggi (2,25 juta), sedangkan cuaca berkabut atau hujan ringan menurunkan jumlah penyewaan menjadi 996 ribu dan 37 ribu.\n",
    "\n",
    "Secara keseluruhan, data menunjukkan bahwa mayoritas penyewaan terjadi di hari kerja, dengan pengguna registered yang lebih aktif, terutama dalam cuaca cerah dan musim gugur."
   ]
  },
  {
   "cell_type": "markdown",
   "id": "5651a82d-0a07-4c91-80ab-e389eec72c25",
   "metadata": {},
   "source": [
    "Data Visualization"
   ]
  },
  {
   "cell_type": "markdown",
   "id": "d02dc9dc-3276-4691-8368-9611572e21f4",
   "metadata": {},
   "source": [
    "Pertanyaan Bisnis:\n",
    "1. Bagaimana pola tren sewa sepeda per bulan selama setahun? (Line Chart)\n",
    "2. Bagaimana distribusi pengguna sepeda di hari libur dibandingkan dengan hari kerja? (Pie Chart)\n",
    "3. Bagaimana perbandingan jumlah pengguna Casual dan Registered di hari kerja? (Pie Chart)\n",
    "4. Musim mana yang memiliki jumlah pengguna sepeda terbanyak? (Bar Chart)\n",
    "5. Bagaimana perbedaan jumlah sewa sepeda antara pengguna Casual dan Registered berdasarkan kondisi cuaca? (Bar Chart)\n",
    "6. Seberapa besar pengaruh kecepatan angin terhadap jumlah penyewa sepeda di hari kerja? (Histogram)"
   ]
  },
  {
   "cell_type": "code",
   "execution_count": 20,
   "id": "040ed6f3-cecd-4cd3-ad63-72a9902cd926",
   "metadata": {},
   "outputs": [
    {
     "data": {
      "image/png": "[encoded data removed]",
      "text/plain": [
       "<Figure size 1000x500 with 1 Axes>"
      ]
     },
     "metadata": {},
     "output_type": "display_data"
    }
   ],
   "source": [
    "# 1. Tren sewa sepeda per bulan dalam setahun\n",
    "monthly_rentals_2012 = bike_sharing_df[bike_sharing_df['yr'] == 1].groupby('mnth')['cnt'].sum()\n",
    "plt.figure(figsize=(10, 5))\n",
    "plt.plot(monthly_rentals_2012.index, monthly_rentals_2012.values, marker='o')\n",
    "plt.title('Tren Sewa Sepeda per Bulan di Tahun 2012')\n",
    "plt.xlabel('Bulan')\n",
    "plt.ylabel('Jumlah Sewa')\n",
    "plt.xticks(monthly_rentals_2012.index)\n",
    "plt.grid()\n",
    "plt.show()"
   ]
  },
  {
   "cell_type": "code",
   "execution_count": 21,
   "id": "85c03ea5-8771-489f-bcec-e8aef37b2ec6",
   "metadata": {},
   "outputs": [
    {
     "data": {
      "image/png": "[encoded data removed]",
      "text/plain": [
       "<Figure size 800x600 with 1 Axes>"
      ]
     },
     "metadata": {},
     "output_type": "display_data"
    }
   ],
   "source": [
    "# 2. Perbandingan jumlah pengguna di hari libur dan di hari biasa\n",
    "# Menghitung total jumlah penyewa di hari kerja dan hari libur\n",
    "total_rentals_workingday = bike_sharing_df[bike_sharing_df['workingday'] == 1]['cnt'].sum()\n",
    "total_rentals_holiday = bike_sharing_df[bike_sharing_df['holiday'] == 1]['cnt'].sum()\n",
    "\n",
    "# Data untuk pie chart\n",
    "labels = ['Hari Kerja', 'Hari Libur']\n",
    "sizes = [total_rentals_workingday, total_rentals_holiday]\n",
    "\n",
    "\n",
    "# Membuat pie chart\n",
    "plt.figure(figsize=(8, 6))\n",
    "plt.pie(sizes, labels=labels, autopct='%1.1f%%', startangle=90)\n",
    "plt.title('Perbandingan Pengguna di Hari Kerja dan Hari Libur')\n",
    "plt.axis('equal')  # Equal aspect ratio memastikan pie chart berbentuk lingkaran\n",
    "plt.show()"
   ]
  },
  {
   "cell_type": "code",
   "execution_count": 22,
   "id": "4375d42b-0d96-419e-b174-16ea201b0a09",
   "metadata": {},
   "outputs": [
    {
     "data": {
      "image/png": "[encoded data removed]",
      "text/plain": [
       "<Figure size 600x600 with 1 Axes>"
      ]
     },
     "metadata": {},
     "output_type": "display_data"
    }
   ],
   "source": [
    "# 3. Perbandingan pengguna Casual dan Registered di Hari Kerja\n",
    "# Filter data untuk hari kerja\n",
    "workingday_rentals = bike_sharing_df[bike_sharing_df['workingday'] == 1]\n",
    "\n",
    "# Hitung total penyewa casual dan registered\n",
    "total_casual = workingday_rentals['casual'].sum()\n",
    "total_registered = workingday_rentals['registered'].sum()\n",
    "\n",
    "# Data untuk Pie Chart\n",
    "labels = ['Casual', 'Registered']\n",
    "totals = [total_casual, total_registered]\n",
    "\n",
    "# Membuat Pie Chart\n",
    "plt.figure(figsize=(6, 6))\n",
    "plt.pie(totals, labels=labels, autopct='%1.1f%%', startangle=90)\n",
    "plt.title('Perbandingan Pengguna Casual dan Registered pada Hari Kerja')\n",
    "plt.axis('equal')  # Pastikan pie chart berbentuk bulat\n",
    "plt.show()\n"
   ]
  },
  {
   "cell_type": "code",
   "execution_count": 23,
   "id": "981bca46-0956-408f-aec1-43a2c4bfb1fc",
   "metadata": {},
   "outputs": [
    {
     "data": {
      "image/png": "[encoded data removed]",
      "text/plain": [
       "<Figure size 800x500 with 1 Axes>"
      ]
     },
     "metadata": {},
     "output_type": "display_data"
    }
   ],
   "source": [
    "# 4. Pada musim apa yang menghasilkan pengguna sepeda paling banyak?\n",
    "# Menghitung total sewa per musim \n",
    "season_rentals = bike_sharing_df.groupby('season')['cnt'].sum()\n",
    "\n",
    "# Mengganti label musim dengan nama yang sesuai\n",
    "season_labels = ['Musim Semi', 'Musim Panas', 'Musim Gugur', 'Musim Dingin']\n",
    "\n",
    "# Membuat Bar Chart dengan warna yang dikustomisasi\n",
    "plt.figure(figsize=(8, 5))\n",
    "\n",
    "# Warna biru untuk semua bar\n",
    "colors = ['C0'] * len(season_rentals)\n",
    "\n",
    "# Menemukan indeks bar yang memiliki nilai tertinggi\n",
    "max_index = season_rentals.idxmax()\n",
    "\n",
    "# Mengubah warna bar tertinggi menjadi oranye\n",
    "colors[max_index - 1] = 'C1'\n",
    "\n",
    "# Plot bar dengan warna kustom\n",
    "season_rentals.plot(kind='bar', color=colors)\n",
    "plt.title('Jumlah Sewa Sepeda per Musim')\n",
    "plt.xlabel('Musim')\n",
    "plt.ylabel('Jumlah Sewa')\n",
    "plt.xticks(ticks=range(len(season_labels)), labels=season_labels, rotation=0)\n",
    "plt.show()\n"
   ]
  },
  {
   "cell_type": "code",
   "execution_count": 24,
   "id": "841ee895-194e-4577-ac8d-a592c416124f",
   "metadata": {},
   "outputs": [
    {
     "data": {
      "text/plain": [
       "<Figure size 1000x600 with 0 Axes>"
      ]
     },
     "metadata": {},
     "output_type": "display_data"
    },
    {
     "data": {
      "image/png": "[encoded data removed]",
      "text/plain": [
       "<Figure size 640x480 with 1 Axes>"
      ]
     },
     "metadata": {},
     "output_type": "display_data"
    }
   ],
   "source": [
    "# 5. Perbedaan jumlah sewa sepeda antara pengguna kasual dan terdaftar berdasarkan kondisi cuaca\n",
    "# Menghitung total sewa berdasarkan kondisi cuaca\n",
    "weather_rentals = bike_sharing_df.groupby('weathersit')[['casual', 'registered']].sum()\n",
    "\n",
    "# Mengganti label kondisi cuaca dengan nama yang sesuai\n",
    "weather_labels = ['Cerah', 'Berkabut', 'Hujan Ringan']\n",
    "\n",
    "# Membuat Bar Chart\n",
    "plt.figure(figsize=(10, 6))\n",
    "weather_rentals.plot(kind='bar', color=['C0', 'C1'])\n",
    "plt.title('Jumlah Sewa Sepeda Berdasarkan Kondisi Cuaca')\n",
    "plt.xlabel('Kondisi Cuaca')\n",
    "plt.ylabel('Jumlah Sewa')\n",
    "plt.xticks(ticks=range(len(weather_labels)), labels=weather_labels, rotation=0)\n",
    "plt.legend(title='Tipe Pengguna')\n",
    "plt.show()\n"
   ]
  },
  {
   "cell_type": "code",
   "execution_count": 25,
   "id": "b0404db1-6dce-430d-afdd-b4309a43a06f",
   "metadata": {},
   "outputs": [
    {
     "data": {
      "image/png": "[encoded data removed]",
      "text/plain": [
       "<Figure size 640x480 with 1 Axes>"
      ]
     },
     "metadata": {},
     "output_type": "display_data"
    }
   ],
   "source": [
    "# 6. Pengaruh kecepatan angin terhadap sewa sepeda berdasarkan hari kerja\n",
    "working_day_rentals = bike_sharing_df[bike_sharing_df['workingday'] == 1]\n",
    "plt.hist(working_day_rentals['windspeed'], bins=20, alpha=0.7, color='C0')\n",
    "plt.title('Pengaruh Kecepatan Angin terhadap Sewa Sepeda di Hari Kerja')\n",
    "plt.xlabel('Kecepatan Angin')\n",
    "plt.ylabel('Jumlah Sewa')\n",
    "plt.grid(axis='y')\n",
    "plt.show()"
   ]
  },
  {
   "cell_type": "markdown",
   "id": "a586a1ea-64b6-42b4-ac1d-d21de7db75bd",
   "metadata": {},
   "source": [
    "Conclusion:\n",
    "\n",
    "1. Bagaimana pola tren sewa sepeda per bulan selama setahun?\n",
    "Di tahun 2012, pengguna sepeda meningkat pesat dari bulan ke-3 hingga mencapai puncaknya di bulan ke-9, kemungkinan karena cuaca sedang ada di musim panas dan gugur. Setelah itu, terjadi penurunan saat musim dingin tiba.\n",
    "\n",
    "2. Bagaimana distribusi pengguna sepeda di hari libur dibandingkan dengan hari kerja?\n",
    "Sebagian besar penyewaan sepeda (96.7%) terjadi di hari kerja, menunjukkan sepeda lebih sering digunakan untuk aktivitas rutin sehari-hari seperti berangkat sekolah dan kantor.\n",
    "\n",
    "3. Bagaimana perbandingan jumlah pengguna Casual dan Registered di hari kerja?\n",
    "Sebanyak 86.8% penyewa adalah pengguna terdaftar (registered), menunjukkan banyak yang memilih mendaftar untuk kemudahan akses dan manfaat sistem bike-sharing ini.\n",
    "\n",
    "4. Musim mana yang memiliki jumlah pengguna sepeda terbanyak?\n",
    "Musim gugur memiliki jumlah pengguna terbanyak, diikuti oleh musim panas, karena cuacanya lebih nyaman untuk bersepeda.\n",
    "\n",
    "5. Bagaimana perbedaan jumlah sewa sepeda antara pengguna Casual dan Registered berdasarkan kondisi cuaca?\n",
    "Pengguna sepeda paling banyak saat cuaca cerah, dan hampir tidak ada penyewaan dalam kondisi cuaca ekstrem seperti hujan lebat (Walapun data ada di dictionary namun tidak banyak data pengguna bike sharing di cuaca ekstrem).\n",
    "\n",
    "6. Seberapa besar pengaruh kecepatan angin terhadap jumlah penyewa sepeda di hari kerja?\n",
    "Sewa sepeda lebih banyak terjadi saat kecepatan angin rendah, karena lebih aman dan nyaman bagi pengguna."
   ]
  }
 ],
 "metadata": {
  "kernelspec": {
   "display_name": "Python 3 (ipykernel)",
   "language": "python",
   "name": "python3"
  },
  "language_info": {
   "codemirror_mode": {
    "name": "ipython",
    "version": 3
   },
   "file_extension": ".py",
   "mimetype": "text/x-python",
   "name": "python",
   "nbconvert_exporter": "python",
   "pygments_lexer": "ipython3",
   "version": "3.10.0"
  }
 },
 "nbformat": 4,
 "nbformat_minor": 5
}
